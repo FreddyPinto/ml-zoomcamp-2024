{
 "cells": [
  {
   "cell_type": "markdown",
   "metadata": {},
   "source": [
    "## Homework\n"
   ]
  },
  {
   "cell_type": "markdown",
   "metadata": {},
   "source": [
    "The goal of this homework is to create a classification model to determine whether the customer will subscribe to a term deposit or not (column `'y'`).\n"
   ]
  },
  {
   "cell_type": "markdown",
   "metadata": {},
   "source": [
    "### Setup"
   ]
  },
  {
   "cell_type": "code",
   "execution_count": 1,
   "metadata": {},
   "outputs": [
    {
     "name": "stdout",
     "output_type": "stream",
     "text": [
      "Python version: 3.11.10 | packaged by conda-forge | (main, Oct 16 2024, 01:17:14) [MSC v.1941 64 bit (AMD64)]\n",
      "NumPy version: 2.1.2\n",
      "Pandas version: 2.2.3\n",
      "Scikit-learn version: 1.5.2\n",
      "Setup Complete\n"
     ]
    }
   ],
   "source": [
    "import sys\n",
    "import zipfile\n",
    "from io import BytesIO\n",
    "\n",
    "import matplotlib.pyplot as plt\n",
    "import numpy as np\n",
    "import pandas as pd\n",
    "import requests\n",
    "import sklearn as skl\n",
    "from sklearn.feature_extraction import DictVectorizer\n",
    "from sklearn.linear_model import LogisticRegression\n",
    "from sklearn.metrics import roc_auc_score, precision_score, recall_score, f1_score\n",
    "from sklearn.model_selection import KFold, train_test_split\n",
    "\n",
    "\n",
    "print(f\"Python version: {sys.version}\")\n",
    "print(f\"NumPy version: {np.__version__}\")\n",
    "print(f\"Pandas version: {pd.__version__}\")\n",
    "print(f\"Scikit-learn version: {skl.__version__}\")\n",
    "print(\"Setup Complete\")"
   ]
  },
  {
   "cell_type": "markdown",
   "metadata": {},
   "source": [
    "\n",
    "### Dataset\n",
    "\n",
    "In this homework, we will use the Bank Marketing dataset. Download it from: https://archive.ics.uci.edu/static/public/222/bank+marketing.zip\n",
    "\n",
    "We need to take `bank/bank-full.csv` file from the downloaded zip-file.  \n",
    "In this dataset our desired target for classification task will be `y` variable - has the client subscribed a term deposit or not. "
   ]
  },
  {
   "cell_type": "code",
   "execution_count": 2,
   "metadata": {},
   "outputs": [],
   "source": [
    "def get_bank_marketing_data(url, inner_zip_name, csv_name): \n",
    "    \"\"\"\n",
    "    Downloads a nested zip file from a URL and reads a CSV file from it into a pandas DataFrame.\n",
    "\n",
    "    Parameters:\n",
    "    url (str): The URL of the outer zip file.\n",
    "    inner_zip_name (str): The name of the inner zip file inside the outer zip file.\n",
    "    csv_name (str): The name of the CSV file inside the inner zip file.\n",
    "\n",
    "    Returns:\n",
    "    pd.DataFrame: DataFrame containing the data from the CSV file.\n",
    "    \"\"\"\n",
    "    # Download the outer zip file\n",
    "    response = requests.get(url)\n",
    "    outer_zip_bytes = BytesIO(response.content)\n",
    "\n",
    "    # Open the outer zip file\n",
    "    with zipfile.ZipFile(outer_zip_bytes, 'r') as outer_zip:\n",
    "        # Read the inner zip file as a file in memory\n",
    "        with outer_zip.open(inner_zip_name) as inner_zip_file:\n",
    "            with zipfile.ZipFile(BytesIO(inner_zip_file.read()), 'r') as inner_zip:\n",
    "                # Read the CSV file directly into a pandas DataFrame\n",
    "                with inner_zip.open(csv_name) as csv_file:\n",
    "                    df = pd.read_csv(csv_file, sep=';')\n",
    "    \n",
    "    return df\n"
   ]
  },
  {
   "cell_type": "code",
   "execution_count": 3,
   "metadata": {},
   "outputs": [],
   "source": [
    "# URL of the external .zip file\n",
    "url = 'https://archive.ics.uci.edu/static/public/222/bank+marketing.zip'\n",
    "inner_zip_name = 'bank.zip'\n",
    "csv_name = 'bank-full.csv'\n"
   ]
  },
  {
   "cell_type": "code",
   "execution_count": 4,
   "metadata": {},
   "outputs": [
    {
     "data": {
      "text/html": [
       "<div>\n",
       "<style scoped>\n",
       "    .dataframe tbody tr th:only-of-type {\n",
       "        vertical-align: middle;\n",
       "    }\n",
       "\n",
       "    .dataframe tbody tr th {\n",
       "        vertical-align: top;\n",
       "    }\n",
       "\n",
       "    .dataframe thead th {\n",
       "        text-align: right;\n",
       "    }\n",
       "</style>\n",
       "<table border=\"1\" class=\"dataframe\">\n",
       "  <thead>\n",
       "    <tr style=\"text-align: right;\">\n",
       "      <th></th>\n",
       "      <th>age</th>\n",
       "      <th>job</th>\n",
       "      <th>marital</th>\n",
       "      <th>education</th>\n",
       "      <th>default</th>\n",
       "      <th>balance</th>\n",
       "      <th>housing</th>\n",
       "      <th>loan</th>\n",
       "      <th>contact</th>\n",
       "      <th>day</th>\n",
       "      <th>month</th>\n",
       "      <th>duration</th>\n",
       "      <th>campaign</th>\n",
       "      <th>pdays</th>\n",
       "      <th>previous</th>\n",
       "      <th>poutcome</th>\n",
       "      <th>y</th>\n",
       "    </tr>\n",
       "  </thead>\n",
       "  <tbody>\n",
       "    <tr>\n",
       "      <th>0</th>\n",
       "      <td>58</td>\n",
       "      <td>management</td>\n",
       "      <td>married</td>\n",
       "      <td>tertiary</td>\n",
       "      <td>no</td>\n",
       "      <td>2143</td>\n",
       "      <td>yes</td>\n",
       "      <td>no</td>\n",
       "      <td>unknown</td>\n",
       "      <td>5</td>\n",
       "      <td>may</td>\n",
       "      <td>261</td>\n",
       "      <td>1</td>\n",
       "      <td>-1</td>\n",
       "      <td>0</td>\n",
       "      <td>unknown</td>\n",
       "      <td>no</td>\n",
       "    </tr>\n",
       "    <tr>\n",
       "      <th>1</th>\n",
       "      <td>44</td>\n",
       "      <td>technician</td>\n",
       "      <td>single</td>\n",
       "      <td>secondary</td>\n",
       "      <td>no</td>\n",
       "      <td>29</td>\n",
       "      <td>yes</td>\n",
       "      <td>no</td>\n",
       "      <td>unknown</td>\n",
       "      <td>5</td>\n",
       "      <td>may</td>\n",
       "      <td>151</td>\n",
       "      <td>1</td>\n",
       "      <td>-1</td>\n",
       "      <td>0</td>\n",
       "      <td>unknown</td>\n",
       "      <td>no</td>\n",
       "    </tr>\n",
       "    <tr>\n",
       "      <th>2</th>\n",
       "      <td>33</td>\n",
       "      <td>entrepreneur</td>\n",
       "      <td>married</td>\n",
       "      <td>secondary</td>\n",
       "      <td>no</td>\n",
       "      <td>2</td>\n",
       "      <td>yes</td>\n",
       "      <td>yes</td>\n",
       "      <td>unknown</td>\n",
       "      <td>5</td>\n",
       "      <td>may</td>\n",
       "      <td>76</td>\n",
       "      <td>1</td>\n",
       "      <td>-1</td>\n",
       "      <td>0</td>\n",
       "      <td>unknown</td>\n",
       "      <td>no</td>\n",
       "    </tr>\n",
       "    <tr>\n",
       "      <th>3</th>\n",
       "      <td>47</td>\n",
       "      <td>blue-collar</td>\n",
       "      <td>married</td>\n",
       "      <td>unknown</td>\n",
       "      <td>no</td>\n",
       "      <td>1506</td>\n",
       "      <td>yes</td>\n",
       "      <td>no</td>\n",
       "      <td>unknown</td>\n",
       "      <td>5</td>\n",
       "      <td>may</td>\n",
       "      <td>92</td>\n",
       "      <td>1</td>\n",
       "      <td>-1</td>\n",
       "      <td>0</td>\n",
       "      <td>unknown</td>\n",
       "      <td>no</td>\n",
       "    </tr>\n",
       "    <tr>\n",
       "      <th>4</th>\n",
       "      <td>33</td>\n",
       "      <td>unknown</td>\n",
       "      <td>single</td>\n",
       "      <td>unknown</td>\n",
       "      <td>no</td>\n",
       "      <td>1</td>\n",
       "      <td>no</td>\n",
       "      <td>no</td>\n",
       "      <td>unknown</td>\n",
       "      <td>5</td>\n",
       "      <td>may</td>\n",
       "      <td>198</td>\n",
       "      <td>1</td>\n",
       "      <td>-1</td>\n",
       "      <td>0</td>\n",
       "      <td>unknown</td>\n",
       "      <td>no</td>\n",
       "    </tr>\n",
       "  </tbody>\n",
       "</table>\n",
       "</div>"
      ],
      "text/plain": [
       "   age           job  marital  education default  balance housing loan  \\\n",
       "0   58    management  married   tertiary      no     2143     yes   no   \n",
       "1   44    technician   single  secondary      no       29     yes   no   \n",
       "2   33  entrepreneur  married  secondary      no        2     yes  yes   \n",
       "3   47   blue-collar  married    unknown      no     1506     yes   no   \n",
       "4   33       unknown   single    unknown      no        1      no   no   \n",
       "\n",
       "   contact  day month  duration  campaign  pdays  previous poutcome   y  \n",
       "0  unknown    5   may       261         1     -1         0  unknown  no  \n",
       "1  unknown    5   may       151         1     -1         0  unknown  no  \n",
       "2  unknown    5   may        76         1     -1         0  unknown  no  \n",
       "3  unknown    5   may        92         1     -1         0  unknown  no  \n",
       "4  unknown    5   may       198         1     -1         0  unknown  no  "
      ]
     },
     "execution_count": 4,
     "metadata": {},
     "output_type": "execute_result"
    }
   ],
   "source": [
    "# Get the data and display the first few rows\n",
    "df = get_bank_marketing_data(url, inner_zip_name, csv_name)\n",
    "df.head()\n"
   ]
  },
  {
   "cell_type": "code",
   "execution_count": 5,
   "metadata": {},
   "outputs": [
    {
     "name": "stdout",
     "output_type": "stream",
     "text": [
      "<class 'pandas.core.frame.DataFrame'>\n",
      "RangeIndex: 45211 entries, 0 to 45210\n",
      "Data columns (total 17 columns):\n",
      " #   Column     Non-Null Count  Dtype \n",
      "---  ------     --------------  ----- \n",
      " 0   age        45211 non-null  int64 \n",
      " 1   job        45211 non-null  object\n",
      " 2   marital    45211 non-null  object\n",
      " 3   education  45211 non-null  object\n",
      " 4   default    45211 non-null  object\n",
      " 5   balance    45211 non-null  int64 \n",
      " 6   housing    45211 non-null  object\n",
      " 7   loan       45211 non-null  object\n",
      " 8   contact    45211 non-null  object\n",
      " 9   day        45211 non-null  int64 \n",
      " 10  month      45211 non-null  object\n",
      " 11  duration   45211 non-null  int64 \n",
      " 12  campaign   45211 non-null  int64 \n",
      " 13  pdays      45211 non-null  int64 \n",
      " 14  previous   45211 non-null  int64 \n",
      " 15  poutcome   45211 non-null  object\n",
      " 16  y          45211 non-null  object\n",
      "dtypes: int64(7), object(10)\n",
      "memory usage: 5.9+ MB\n"
     ]
    }
   ],
   "source": [
    "df.info()\n"
   ]
  },
  {
   "cell_type": "markdown",
   "metadata": {},
   "source": [
    "### Features\n",
    "\n",
    "For the rest of the homework, you'll need to use only these columns:\n"
   ]
  },
  {
   "cell_type": "code",
   "execution_count": 6,
   "metadata": {},
   "outputs": [],
   "source": [
    "features = [\n",
    "    \"age\",\n",
    "    \"job\",\n",
    "    \"marital\",\n",
    "    \"education\",\n",
    "    \"balance\",\n",
    "    \"housing\",\n",
    "    \"contact\",\n",
    "    \"day\",\n",
    "    \"month\",\n",
    "    \"duration\",\n",
    "    \"campaign\",\n",
    "    \"pdays\",\n",
    "    \"previous\",\n",
    "    \"poutcome\",\n",
    "    \"y\",\n",
    "]\n"
   ]
  },
  {
   "cell_type": "markdown",
   "metadata": {},
   "source": [
    "### Data preparation"
   ]
  },
  {
   "cell_type": "markdown",
   "metadata": {},
   "source": [
    "* Select only the features from above."
   ]
  },
  {
   "cell_type": "code",
   "execution_count": 7,
   "metadata": {},
   "outputs": [
    {
     "data": {
      "text/plain": [
       "Index(['age', 'job', 'marital', 'education', 'balance', 'housing', 'contact',\n",
       "       'day', 'month', 'duration', 'campaign', 'pdays', 'previous', 'poutcome',\n",
       "       'y'],\n",
       "      dtype='object')"
      ]
     },
     "execution_count": 7,
     "metadata": {},
     "output_type": "execute_result"
    }
   ],
   "source": [
    "df = df[features]\n",
    "df.columns\n"
   ]
  },
  {
   "cell_type": "markdown",
   "metadata": {},
   "source": [
    "* Check if the missing values are presented in the features."
   ]
  },
  {
   "cell_type": "code",
   "execution_count": 8,
   "metadata": {},
   "outputs": [
    {
     "data": {
      "text/plain": [
       "age          0\n",
       "job          0\n",
       "marital      0\n",
       "education    0\n",
       "balance      0\n",
       "housing      0\n",
       "contact      0\n",
       "day          0\n",
       "month        0\n",
       "duration     0\n",
       "campaign     0\n",
       "pdays        0\n",
       "previous     0\n",
       "poutcome     0\n",
       "y            0\n",
       "dtype: int64"
      ]
     },
     "execution_count": 8,
     "metadata": {},
     "output_type": "execute_result"
    }
   ],
   "source": [
    "df.isna().sum()\n"
   ]
  },
  {
   "cell_type": "code",
   "execution_count": 9,
   "metadata": {},
   "outputs": [],
   "source": [
    "numerical_features = df.select_dtypes(include=['int64']).columns\n",
    "numerical_features = numerical_features.tolist()"
   ]
  },
  {
   "cell_type": "markdown",
   "metadata": {},
   "source": [
    "* Now we want to encode the `y` variable. Let's replace the values `yes`/`no` with `1`/`0`.\n"
   ]
  },
  {
   "cell_type": "code",
   "execution_count": 10,
   "metadata": {},
   "outputs": [
    {
     "data": {
      "text/plain": [
       "y\n",
       "0    39922\n",
       "1     5289\n",
       "Name: count, dtype: int64"
      ]
     },
     "execution_count": 10,
     "metadata": {},
     "output_type": "execute_result"
    }
   ],
   "source": [
    "df.y = (df.y == 'yes').astype(int)\n",
    "df.y.value_counts()\n"
   ]
  },
  {
   "cell_type": "code",
   "execution_count": 11,
   "metadata": {},
   "outputs": [],
   "source": [
    "categorical_features = df.select_dtypes(include=['object', 'category']).columns\n",
    "categorical_features = categorical_features.tolist()"
   ]
  },
  {
   "cell_type": "code",
   "execution_count": 12,
   "metadata": {},
   "outputs": [
    {
     "data": {
      "text/plain": [
       "['age',\n",
       " 'balance',\n",
       " 'day',\n",
       " 'duration',\n",
       " 'campaign',\n",
       " 'pdays',\n",
       " 'previous',\n",
       " 'job',\n",
       " 'marital',\n",
       " 'education',\n",
       " 'housing',\n",
       " 'contact',\n",
       " 'month',\n",
       " 'poutcome']"
      ]
     },
     "execution_count": 12,
     "metadata": {},
     "output_type": "execute_result"
    }
   ],
   "source": [
    "columns = numerical_features + categorical_features\n",
    "columns"
   ]
  },
  {
   "cell_type": "markdown",
   "metadata": {},
   "source": [
    "- Split the data into 3 parts: train/validation/test with 60%/20%/20% distribution. Use `train_test_split` function for that with `random_state=1`\n"
   ]
  },
  {
   "cell_type": "code",
   "execution_count": 13,
   "metadata": {},
   "outputs": [],
   "source": [
    "def split_data(df, test_size=0.2, val_size=0.25, random_state=42):\n",
    "\n",
    "    \"\"\"\n",
    "    Split the data into train, validation, and test sets.\n",
    "    \n",
    "    Args:\n",
    "    df (pd.DataFrame): The input dataframe\n",
    "    test_size (float): Proportion of data to be used for testing\n",
    "    val_size (float): Proportion of training data to be used for validation\n",
    "    random_state (int): Seed for random number generator\n",
    "    \n",
    "    Returns:\n",
    "    tuple: (df_train, df_val, df_test, y_train, y_val, y_test)\n",
    "    \"\"\"\n",
    "    # Split into train+val and test\n",
    "    df_full_train, df_test = train_test_split(df, test_size=test_size, random_state=random_state)\n",
    "    \n",
    "    # Split train+val into train and val\n",
    "    df_train, df_val = train_test_split(df_full_train, test_size=val_size, random_state=random_state)\n",
    "    \n",
    "    # Reset indices\n",
    "    df_train = df_train.reset_index(drop=True)\n",
    "    df_val = df_val.reset_index(drop=True)\n",
    "    df_test = df_test.reset_index(drop=True)\n",
    "    \n",
    "    # Extract target variable\n",
    "    y_train = df_train.pop('y').values\n",
    "    y_val = df_val.pop('y').values\n",
    "    y_test = df_test.pop('y').values\n",
    "    \n",
    "    return df_full_train, df_train, df_val, df_test, y_train, y_val, y_test\n"
   ]
  },
  {
   "cell_type": "code",
   "execution_count": 14,
   "metadata": {},
   "outputs": [
    {
     "name": "stdout",
     "output_type": "stream",
     "text": [
      "Train set size: 27126\n",
      "Validation set size: 9042\n",
      "Test set size: 9043\n"
     ]
    }
   ],
   "source": [
    "# Split the data with random_state=1\n",
    "df_full_train, df_train, df_val, df_test, y_train, y_val, y_test = split_data(df, random_state=1)\n",
    "\n",
    "# Print sizes of resulting datasets\n",
    "print(f\"Train set size: {len(df_train)}\")\n",
    "print(f\"Validation set size: {len(df_val)}\")\n",
    "print(f\"Test set size: {len(df_test)}\")\n"
   ]
  },
  {
   "cell_type": "markdown",
   "metadata": {},
   "source": [
    "### Question 1: ROC AUC feature importance\n",
    "\n",
    "ROC AUC could also be used to evaluate feature importance of numerical variables. \n",
    "\n",
    "Let's do that\n",
    "\n",
    "* For each numerical variable, use it as score (aka prediction) and compute the AUC with the `y` variable as ground truth.\n",
    "* Use the training dataset for that\n",
    "\n",
    "\n",
    "If your AUC is < 0.5, invert this variable by putting \"-\" in front\n",
    "\n",
    "(e.g. `-df_train['engine_hp']`)\n",
    "\n",
    "AUC can go below 0.5 if the variable is negatively correlated with the target variable. You can change the direction of the correlation by negating this variable - then negative correlation becomes positive.\n",
    "\n",
    "Which numerical variable (among the following 4) has the highest AUC?\n",
    "\n",
    "- `balance`\n",
    "- `day`\n",
    "- `duration`\n",
    "- `previous`\n"
   ]
  },
  {
   "cell_type": "code",
   "execution_count": 15,
   "metadata": {},
   "outputs": [
    {
     "name": "stdout",
     "output_type": "stream",
     "text": [
      "\n",
      "ROC AUC scores for numerical features:\n",
      "=====================================\n",
      "duration        AUC: 0.8147\n",
      "previous        AUC: 0.5986\n",
      "pdays           AUC: 0.5901\n",
      "balance         AUC: 0.5888\n",
      "-campaign       AUC: 0.5715\n",
      "-day            AUC: 0.5260\n",
      "-age            AUC: 0.5122\n"
     ]
    }
   ],
   "source": [
    "# Diccionario para almacenar los resultados\n",
    "auc_scores = {}\n",
    "\n",
    "# Calcular AUC para cada variable numérica\n",
    "for col in numerical_features:\n",
    "    # Calcular AUC inicial\n",
    "    auc = roc_auc_score(y_train, df_train[col])\n",
    "    \n",
    "    # Si AUC < 0.5, invertir la variable y recalcular\n",
    "    if auc < 0.5:\n",
    "        auc = roc_auc_score(y_train, -df_train[col])\n",
    "        auc_scores[f\"-{col}\"] = auc\n",
    "    else:\n",
    "        auc_scores[col] = auc\n",
    "\n",
    "# Ordenar los resultados por valor de AUC descendente\n",
    "sorted_auc = dict(sorted(auc_scores.items(), key=lambda x: x[1], reverse=True))\n",
    "\n",
    "# Imprimir resultados formateados\n",
    "print(\"\\nROC AUC scores for numerical features:\")\n",
    "print(\"=====================================\")\n",
    "for feature, auc in sorted_auc.items():\n",
    "    print(f\"{feature:15} AUC: {auc:.4f}\")"
   ]
  },
  {
   "cell_type": "markdown",
   "metadata": {},
   "source": [
    "### Question 2: Training the model\n",
    "\n",
    "Apply one-hot-encoding using `DictVectorizer` and train the logistic regression with these parameters:\n",
    "\n",
    "```python\n",
    "LogisticRegression(solver='liblinear', C=1.0, max_iter=1000)\n",
    "```\n",
    "\n",
    "What's the AUC of this model on the validation dataset? (round to 3 digits)\n",
    "\n",
    "- 0.69\n",
    "- 0.79\n",
    "- 0.89\n",
    "- 0.99\n"
   ]
  },
  {
   "cell_type": "code",
   "execution_count": 16,
   "metadata": {},
   "outputs": [],
   "source": [
    "def prepare_features(df_train, df_val):\n",
    "    \"\"\"\n",
    "    Prepare feature matrices for training and validation data.\n",
    "    \n",
    "    Args:\n",
    "    df_train (pd.DataFrame): Training dataframe\n",
    "    df_val (pd.DataFrame): Validation dataframe\n",
    "    \n",
    "    Returns:\n",
    "    tuple: X_train, X_val\n",
    "    \"\"\"\n",
    "    dv = DictVectorizer(sparse=False)\n",
    "    \n",
    "    # Prepare training data\n",
    "    train_dict = df_train[columns].to_dict(orient='records')\n",
    "    X_train = dv.fit_transform(train_dict)\n",
    "    \n",
    "    # Prepare validation data\n",
    "    val_dict = df_val.to_dict(orient='records')\n",
    "    X_val = dv.transform(val_dict)\n",
    "    \n",
    "    return X_train, X_val\n"
   ]
  },
  {
   "cell_type": "code",
   "execution_count": 17,
   "metadata": {},
   "outputs": [],
   "source": [
    "def train_model(X, y, C=1.0):\n",
    "    \"\"\"\n",
    "    Train a logistic regression model.\n",
    "\n",
    "    Args:\n",
    "    X (array-like): Feature matrix\n",
    "    y (array-like): Target vector\n",
    "    C (float): Regularization parameter\n",
    "\n",
    "    Returns:\n",
    "    LogisticRegression: Trained model\n",
    "    \"\"\"\n",
    "    model = LogisticRegression(solver='liblinear', C=C, max_iter=1000)\n",
    "    model.fit(X, y)\n",
    "    return model\n"
   ]
  },
  {
   "cell_type": "code",
   "execution_count": 18,
   "metadata": {},
   "outputs": [],
   "source": [
    "def predict(model, X):\n",
    "    \"\"\"\n",
    "    Make probability predictions using the trained model.\n",
    "\n",
    "    Args:\n",
    "    model: Trained model with predict_proba method\n",
    "    X (array-like): Feature matrix to make predictions on\n",
    "\n",
    "    Returns:\n",
    "    np.array: Array of probability predictions for the positive class\n",
    "    \"\"\"\n",
    "    probabilities = model.predict_proba(X)\n",
    "    y_pred = np.asarray(probabilities[:, 1])\n",
    "    return y_pred"
   ]
  },
  {
   "cell_type": "code",
   "execution_count": 19,
   "metadata": {},
   "outputs": [
    {
     "name": "stdout",
     "output_type": "stream",
     "text": [
      "ROC AUC on validation set: 0.900\n"
     ]
    }
   ],
   "source": [
    "# Prepare data\n",
    "X_train, X_val = prepare_features(df_train, df_val)\n",
    "\n",
    "# Train the model\n",
    "model = train_model(X_train, y_train)\n",
    "\n",
    "# Make predictions\n",
    "val_predictions = predict(model, X_val)\n",
    "\n",
    "# Calculate ROC AUC score\n",
    "auc_score = roc_auc_score(y_val, val_predictions)\n",
    "\n",
    "print(f\"ROC AUC on validation set: {auc_score:.3f}\")\n"
   ]
  },
  {
   "cell_type": "markdown",
   "metadata": {},
   "source": [
    "### Question 3: Precision and Recall\n",
    "\n",
    "Now let's compute precision and recall for our model.\n",
    "\n",
    "* Evaluate the model on all thresholds from 0.0 to 1.0 with step 0.01\n",
    "* For each threshold, compute precision and recall\n",
    "* Plot them\n",
    "\n",
    "At which threshold precision and recall curves intersect?\n",
    "\n",
    "* 0.265\n",
    "* 0.465\n",
    "* 0.665\n",
    "* 0.865\n"
   ]
  },
  {
   "cell_type": "code",
   "execution_count": 20,
   "metadata": {},
   "outputs": [
    {
     "data": {
      "image/png": "[encoded data removed]",
      "text/plain": [
       "<Figure size 1000x600 with 1 Axes>"
      ]
     },
     "metadata": {},
     "output_type": "display_data"
    },
    {
     "name": "stdout",
     "output_type": "stream",
     "text": [
      "\n",
      "Precise intersection values:\n",
      "Threshold: 0.260\n",
      "Precision: 0.556\n",
      "Recall: 0.566\n"
     ]
    }
   ],
   "source": [
    "# Generate threshold values from 0.0 to 1.0 with step 0.01\n",
    "thresholds = np.arange(0, 1.0, 0.01)\n",
    "\n",
    "# Lists to store precision and recall values for each threshold\n",
    "precisions = []\n",
    "recalls = []\n",
    "\n",
    "# Calculate precision and recall for each threshold\n",
    "for threshold in thresholds:\n",
    "    # Convert probabilities to binary predictions based on threshold\n",
    "    y_pred = (val_predictions >= threshold).astype(int)\n",
    "    \n",
    "    # Calculate precision and recall\n",
    "    precision = precision_score(y_val, y_pred)\n",
    "    recall = recall_score(y_val, y_pred)\n",
    "    \n",
    "    precisions.append(precision)\n",
    "    recalls.append(recall)\n",
    "\n",
    "# Convert to numpy arrays for easier manipulation\n",
    "precisions = np.array(precisions)\n",
    "recalls = np.array(recalls)\n",
    "\n",
    "# Find intersection point\n",
    "# Calculate differences between precision and recall\n",
    "differences = precisions - recalls\n",
    "# Find where the difference changes sign (crosses zero)\n",
    "# We use [:-1] to avoid the endpoint where both curves go to zero\n",
    "sign_changes = np.where(np.diff(np.signbit(differences[:-1])))[0]\n",
    "\n",
    "# Get the intersection index\n",
    "if len(sign_changes) > 0:\n",
    "    intersection_idx = sign_changes[0]  # Take the first intersection\n",
    "    intersection_threshold = thresholds[intersection_idx]\n",
    "    intersection_value = (precisions[intersection_idx] + recalls[intersection_idx]) / 2\n",
    "else:\n",
    "    intersection_idx = 0\n",
    "    intersection_threshold = 0\n",
    "    intersection_value = 0\n",
    "\n",
    "# Create the plot\n",
    "plt.figure(figsize=(10, 6))\n",
    "plt.plot(thresholds, precisions, label='Precision', linewidth=2)\n",
    "plt.plot(thresholds, recalls, label='Recall', linewidth=2)\n",
    "\n",
    "# Add intersection point\n",
    "plt.plot(intersection_threshold, intersection_value, 'ro', \n",
    "         label=f'Intersection: {intersection_threshold:.3f}')\n",
    "\n",
    "# Customize the plot\n",
    "plt.xlabel('Threshold')\n",
    "plt.ylabel('Score')\n",
    "plt.title('Precision and Recall vs Threshold')\n",
    "plt.grid(True, alpha=0.3)\n",
    "plt.legend()\n",
    "\n",
    "# Add text annotation with intersection point\n",
    "plt.text(0.5, 0.2, \n",
    "         f'Intersection threshold: {intersection_threshold:.3f}\\n' +\n",
    "         f'Precision/Recall at intersection: {intersection_value:.3f}',\n",
    "         bbox=dict(facecolor='white', alpha=0.7))\n",
    "\n",
    "plt.show()\n",
    "\n",
    "print(f\"\\nPrecise intersection values:\")\n",
    "print(f\"Threshold: {intersection_threshold:.3f}\")\n",
    "print(f\"Precision: {precisions[intersection_idx]:.3f}\")\n",
    "print(f\"Recall: {recalls[intersection_idx]:.3f}\")"
   ]
  },
  {
   "cell_type": "markdown",
   "metadata": {},
   "source": [
    "### Question 4: F1 score\n",
    "\n",
    "Precision and recall are conflicting - when one grows, the other goes down. That's why they are often combined into the F1 score - a metrics that takes into account both\n",
    "\n",
    "This is the formula for computing F1:\n",
    "\n",
    "$$F_1 = 2 \\cdot \\cfrac{P \\cdot R}{P + R}$$\n",
    "\n",
    "Where $P$ is precision and $R$ is recall.\n",
    "\n",
    "Let's compute F1 for all thresholds from 0.0 to 1.0 with increment 0.01\n",
    "\n",
    "At which threshold F1 is maximal?\n",
    "\n",
    "- 0.02\n",
    "- 0.22\n",
    "- 0.42\n",
    "- 0.62\n"
   ]
  },
  {
   "cell_type": "code",
   "execution_count": 21,
   "metadata": {},
   "outputs": [
    {
     "data": {
      "image/png": "[encoded data removed]",
      "text/plain": [
       "<Figure size 1000x600 with 1 Axes>"
      ]
     },
     "metadata": {},
     "output_type": "display_data"
    },
    {
     "name": "stdout",
     "output_type": "stream",
     "text": [
      "\n",
      "F1 Score Analysis Results:\n",
      "Maximum F1 Score: 0.573\n",
      "Optimal Threshold: 0.22\n"
     ]
    }
   ],
   "source": [
    "# Lists to store f1 values for each threshold\n",
    "f1_scores = []\n",
    "\n",
    "# Calculate metrics for each threshold\n",
    "for threshold in thresholds:\n",
    "    # Convert probabilities to binary predictions based on threshold\n",
    "    y_pred = (val_predictions >= threshold).astype(int)\n",
    "    \n",
    "    # Calculate f1 score directly using sklearn\n",
    "    f1 = f1_score(y_val, y_pred)\n",
    "    f1_scores.append(f1)\n",
    "\n",
    "# Convert to numpy array\n",
    "f1_scores = np.array(f1_scores)\n",
    "\n",
    "# Find the threshold that maximizes F1\n",
    "max_f1_idx = np.argmax(f1_scores)\n",
    "max_f1_threshold = thresholds[max_f1_idx]\n",
    "max_f1_score = f1_scores[max_f1_idx]\n",
    "\n",
    "# Create the plot\n",
    "plt.figure(figsize=(10, 6))\n",
    "plt.plot(thresholds, f1_scores, label='F1 Score', linewidth=2)\n",
    "\n",
    "# Add point of maximum F1\n",
    "plt.plot(max_f1_threshold, max_f1_score, 'ro', \n",
    "         label=f'Max F1 at threshold: {max_f1_threshold:.2f}')\n",
    "\n",
    "# Customize the plot\n",
    "plt.xlabel('Threshold')\n",
    "plt.ylabel('F1 Score')\n",
    "plt.title('F1 Score vs Threshold')\n",
    "plt.grid(True, alpha=0.3)\n",
    "plt.legend()\n",
    "\n",
    "# Add text annotation with maximum point\n",
    "plt.text(0.5, 0.2, \n",
    "         f'Maximum F1 Score: {max_f1_score:.3f}\\n' +\n",
    "         f'at threshold: {max_f1_threshold:.2f}',\n",
    "         bbox=dict(facecolor='white', alpha=0.7))\n",
    "\n",
    "plt.show()\n",
    "\n",
    "print(f\"\\nF1 Score Analysis Results:\")\n",
    "print(f\"Maximum F1 Score: {max_f1_score:.3f}\")\n",
    "print(f\"Optimal Threshold: {max_f1_threshold:.2f}\")"
   ]
  },
  {
   "cell_type": "markdown",
   "metadata": {},
   "source": [
    "### Question 5: 5-Fold CV\n",
    "\n",
    "\n",
    "Use the `KFold` class from Scikit-Learn to evaluate our model on 5 different folds:\n",
    "\n",
    "```\n",
    "KFold(n_splits=5, shuffle=True, random_state=1)\n",
    "```\n",
    "\n",
    "* Iterate over different folds of `df_full_train`\n",
    "* Split the data into train and validation\n",
    "* Train the model on train with these parameters: `LogisticRegression(solver='liblinear', C=1.0, max_iter=1000)`\n",
    "* Use AUC to evaluate the model on validation\n",
    "\n",
    "How large is standard deviation of the scores across different folds?\n",
    "\n",
    "- 0.0001\n",
    "- 0.006\n",
    "- 0.06\n",
    "- 0.26\n"
   ]
  },
  {
   "cell_type": "code",
   "execution_count": 22,
   "metadata": {},
   "outputs": [
    {
     "name": "stdout",
     "output_type": "stream",
     "text": [
      "Fold 1 AUC: 0.899\n",
      "Fold 2 AUC: 0.899\n",
      "Fold 3 AUC: 0.911\n",
      "Fold 4 AUC: 0.908\n",
      "Fold 5 AUC: 0.911\n",
      "\n",
      "Cross-validation results:\n",
      "========================\n",
      "Individual fold scores: ['0.899', '0.899', '0.911', '0.908', '0.911']\n",
      "Mean AUC: 0.906\n",
      "Standard Deviation: 0.005\n"
     ]
    }
   ],
   "source": [
    "# Initialize KFold\n",
    "kf = KFold(n_splits=5, shuffle=True, random_state=1)\n",
    "\n",
    "# List to store AUC scores for each fold\n",
    "fold_scores = []\n",
    "\n",
    "# Convert dataframe to list of dictionaries (needed for DictVectorizer)\n",
    "train_dicts = df_full_train[columns].to_dict(orient='records')\n",
    "\n",
    "# Get target variable\n",
    "y_full = df_full_train['y'].values\n",
    "\n",
    "# Perform k-fold cross validation\n",
    "for fold, (train_idx, val_idx) in enumerate(kf.split(train_dicts), 1):\n",
    "    # Split data for this fold\n",
    "    train_dicts_fold = [train_dicts[i] for i in train_idx]\n",
    "    val_dicts_fold = [train_dicts[i] for i in val_idx]\n",
    "    \n",
    "    y_train_fold = y_full[train_idx]\n",
    "    y_val_fold = y_full[val_idx]\n",
    "    \n",
    "    # Initialize and fit DictVectorizer\n",
    "    dv = DictVectorizer(sparse=False)\n",
    "    X_train_fold = dv.fit_transform(train_dicts_fold)\n",
    "    X_val_fold = dv.transform(val_dicts_fold)\n",
    "    \n",
    "    # Train model\n",
    "    model = LogisticRegression(solver='liblinear', C=1.0, max_iter=1000)\n",
    "    model.fit(X_train_fold, y_train_fold)\n",
    "    \n",
    "    # Make predictions\n",
    "    val_predictions = model.predict_proba(X_val_fold)[:, 1]\n",
    "    \n",
    "    # Calculate and store AUC score\n",
    "    auc_score = roc_auc_score(y_val_fold, val_predictions)\n",
    "    fold_scores.append(auc_score)\n",
    "    \n",
    "    print(f\"Fold {fold} AUC: {auc_score:.3f}\")\n",
    "\n",
    "# Calculate statistics\n",
    "mean_auc = np.mean(fold_scores)\n",
    "std_auc = np.std(fold_scores)\n",
    "\n",
    "print(\"\\nCross-validation results:\")\n",
    "print(\"========================\")\n",
    "print(f\"Individual fold scores: {[f'{score:.3f}' for score in fold_scores]}\")\n",
    "print(f\"Mean AUC: {mean_auc:.3f}\")\n",
    "print(f\"Standard Deviation: {std_auc:.3f}\")"
   ]
  },
  {
   "cell_type": "markdown",
   "metadata": {},
   "source": [
    "### Question 6: Hyperparameter Tuning\n",
    "\n",
    "Now let's use 5-Fold cross-validation to find the best parameter `C`\n",
    "\n",
    "* Iterate over the following `C` values: `[0.000001, 0.001, 1]`\n",
    "* Initialize `KFold` with the same parameters as previously\n",
    "* Use these parameters for the model: `LogisticRegression(solver='liblinear', C=C, max_iter=1000)`\n",
    "* Compute the mean score as well as the std (round the mean and std to 3 decimal digits)\n",
    "\n",
    "Which `C` leads to the best mean score?\n",
    "\n",
    "- 0.000001\n",
    "- 0.001\n",
    "- 1\n",
    "\n",
    "If you have ties, select the score with the lowest std. If you still have ties, select the smallest `C`.\n"
   ]
  },
  {
   "cell_type": "code",
   "execution_count": 23,
   "metadata": {},
   "outputs": [
    {
     "name": "stdout",
     "output_type": "stream",
     "text": [
      "Cross-validation results for different C values:\n",
      "=============================================\n",
      "\n",
      "C = 1e-06\n",
      "Mean AUC: 0.701\n",
      "Std AUC:  0.009\n",
      "Individual fold scores: ['0.685', '0.700', '0.712', '0.709', '0.702']\n",
      "\n",
      "C = 0.001\n",
      "Mean AUC: 0.861\n",
      "Std AUC:  0.007\n",
      "Individual fold scores: ['0.848', '0.860', '0.864', '0.869', '0.865']\n",
      "\n",
      "C = 1\n",
      "Mean AUC: 0.906\n",
      "Std AUC:  0.005\n",
      "Individual fold scores: ['0.899', '0.899', '0.911', '0.908', '0.911']\n",
      "\n",
      "Best parameters:\n",
      "C = 1\n",
      "Mean AUC = 0.906\n",
      "Std AUC = 0.005\n"
     ]
    }
   ],
   "source": [
    "# Initialize parameters\n",
    "C_values = [0.000001, 0.001, 1]\n",
    "kf = KFold(n_splits=5, shuffle=True, random_state=1)\n",
    "\n",
    "# Dictionary to store results for each C value\n",
    "results = {}\n",
    "\n",
    "# Convert dataframe to list of dictionaries\n",
    "train_dicts = df_full_train[columns].to_dict(orient='records')\n",
    "y_full = df_full_train['y'].values\n",
    "\n",
    "# Iterate over C values\n",
    "for C in C_values:\n",
    "    fold_scores = []\n",
    "    \n",
    "    # Perform k-fold cross validation for this C value\n",
    "    for fold, (train_idx, val_idx) in enumerate(kf.split(train_dicts), 1):\n",
    "        # Split data for this fold\n",
    "        train_dicts_fold = [train_dicts[i] for i in train_idx]\n",
    "        val_dicts_fold = [train_dicts[i] for i in val_idx]\n",
    "        \n",
    "        y_train_fold = y_full[train_idx]\n",
    "        y_val_fold = y_full[val_idx]\n",
    "        \n",
    "        # Initialize and fit DictVectorizer\n",
    "        dv = DictVectorizer(sparse=False)\n",
    "        X_train_fold = dv.fit_transform(train_dicts_fold)\n",
    "        X_val_fold = dv.transform(val_dicts_fold)\n",
    "        \n",
    "        # Train model with current C value\n",
    "        model = LogisticRegression(solver='liblinear', C=C, max_iter=1000)\n",
    "        model.fit(X_train_fold, y_train_fold)\n",
    "        \n",
    "        # Make predictions\n",
    "        val_predictions = model.predict_proba(X_val_fold)[:, 1]\n",
    "        \n",
    "        # Calculate and store AUC score\n",
    "        auc_score = roc_auc_score(y_val_fold, val_predictions)\n",
    "        fold_scores.append(auc_score)\n",
    "    \n",
    "    # Calculate mean and std for this C value\n",
    "    mean_auc = np.mean(fold_scores)\n",
    "    std_auc = np.std(fold_scores)\n",
    "    \n",
    "    # Store results\n",
    "    results[C] = {\n",
    "        'mean_auc': round(mean_auc, 3),\n",
    "        'std_auc': round(std_auc, 3),\n",
    "        'fold_scores': fold_scores\n",
    "    }\n",
    "\n",
    "# Print results in a formatted way\n",
    "print(\"Cross-validation results for different C values:\")\n",
    "print(\"=============================================\")\n",
    "for C in C_values:\n",
    "    print(f\"\\nC = {C}\")\n",
    "    print(f\"Mean AUC: {results[C]['mean_auc']:.3f}\")\n",
    "    print(f\"Std AUC:  {results[C]['std_auc']:.3f}\")\n",
    "    print(f\"Individual fold scores: {[f'{score:.3f}' for score in results[C]['fold_scores']]}\")\n",
    "\n",
    "# Find best C value considering mean and std\n",
    "best_C = C_values[0]\n",
    "best_mean = results[best_C]['mean_auc']\n",
    "best_std = results[best_C]['std_auc']\n",
    "\n",
    "for C in C_values[1:]:\n",
    "    current_mean = results[C]['mean_auc']\n",
    "    current_std = results[C]['std_auc']\n",
    "    \n",
    "    # Update best if:\n",
    "    # 1. Current mean is higher\n",
    "    # 2. Current mean is equal but std is lower\n",
    "    if (current_mean > best_mean) or \\\n",
    "       (current_mean == best_mean and current_std < best_std):\n",
    "        best_C = C\n",
    "        best_mean = current_mean\n",
    "        best_std = current_std\n",
    "\n",
    "print(\"\\nBest parameters:\")\n",
    "print(f\"C = {best_C}\")\n",
    "print(f\"Mean AUC = {best_mean:.3f}\")\n",
    "print(f\"Std AUC = {best_std:.3f}\")"
   ]
  },
  {
   "cell_type": "markdown",
   "metadata": {},
   "source": [
    "## Reference\n",
    "\n",
    "-   Original homework: \n",
    "    https://github.com/DataTalksClub/machine-learning-zoomcamp/blob/master/cohorts/2024/04-evaluation/homework.md"
   ]
  }
 ],
 "metadata": {
  "kernelspec": {
   "display_name": "ml-zoomcamp",
   "language": "python",
   "name": "python3"
  },
  "language_info": {
   "codemirror_mode": {
    "name": "ipython",
    "version": 3
   },
   "file_extension": ".py",
   "mimetype": "text/x-python",
   "name": "python",
   "nbconvert_exporter": "python",
   "pygments_lexer": "ipython3",
   "version": "3.11.10"
  }
 },
 "nbformat": 4,
 "nbformat_minor": 2
}
