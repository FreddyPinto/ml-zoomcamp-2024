{
 "cells": [
  {
   "cell_type": "markdown",
   "id": "56770f21",
   "metadata": {},
   "source": [
    "## Homework\n",
    "\n",
    "The goal of this homework is to create a regression model for predicting\n",
    "the Laptops prices (column `'Final Price'`)."
   ]
  },
  {
   "cell_type": "markdown",
   "id": "7eb1669a",
   "metadata": {},
   "source": [
    "### Setup"
   ]
  },
  {
   "cell_type": "code",
   "execution_count": 1,
   "id": "9759bddb",
   "metadata": {},
   "outputs": [
    {
     "name": "stdout",
     "output_type": "stream",
     "text": [
      "NumPy version: 1.26.4\n",
      "Pandas version: 2.2.2\n",
      "Seaborn version: 0.13.2\n"
     ]
    }
   ],
   "source": [
    "import numpy as np\n",
    "import pandas as pd\n",
    "import matplotlib.pyplot as plt\n",
    "import seaborn as sns\n",
    "\n",
    "print(f\"NumPy version: {np.__version__}\")\n",
    "print(f\"Pandas version: {pd.__version__}\")\n",
    "print(f\"Seaborn version: {sns.__version__}\")"
   ]
  },
  {
   "cell_type": "markdown",
   "id": "a33577cf",
   "metadata": {},
   "source": [
    "### Getting the data \n",
    "\n",
    "For this homework, I used the Laptops Price dataset. Downloaded from:\n",
    "https://raw.githubusercontent.com/alexeygrigorev/datasets/master/laptops.csv"
   ]
  },
  {
   "cell_type": "code",
   "execution_count": 2,
   "id": "f1d0fa32",
   "metadata": {},
   "outputs": [
    {
     "data": {
      "text/html": [
       "<div>\n",
       "<style scoped>\n",
       "    .dataframe tbody tr th:only-of-type {\n",
       "        vertical-align: middle;\n",
       "    }\n",
       "\n",
       "    .dataframe tbody tr th {\n",
       "        vertical-align: top;\n",
       "    }\n",
       "\n",
       "    .dataframe thead th {\n",
       "        text-align: right;\n",
       "    }\n",
       "</style>\n",
       "<table border=\"1\" class=\"dataframe\">\n",
       "  <thead>\n",
       "    <tr style=\"text-align: right;\">\n",
       "      <th></th>\n",
       "      <th>Laptop</th>\n",
       "      <th>Status</th>\n",
       "      <th>Brand</th>\n",
       "      <th>Model</th>\n",
       "      <th>CPU</th>\n",
       "      <th>RAM</th>\n",
       "      <th>Storage</th>\n",
       "      <th>Storage type</th>\n",
       "      <th>GPU</th>\n",
       "      <th>Screen</th>\n",
       "      <th>Touch</th>\n",
       "      <th>Final Price</th>\n",
       "    </tr>\n",
       "  </thead>\n",
       "  <tbody>\n",
       "    <tr>\n",
       "      <th>0</th>\n",
       "      <td>ASUS ExpertBook B1 B1502CBA-EJ0436X Intel Core...</td>\n",
       "      <td>New</td>\n",
       "      <td>Asus</td>\n",
       "      <td>ExpertBook</td>\n",
       "      <td>Intel Core i5</td>\n",
       "      <td>8</td>\n",
       "      <td>512</td>\n",
       "      <td>SSD</td>\n",
       "      <td>NaN</td>\n",
       "      <td>15.6</td>\n",
       "      <td>No</td>\n",
       "      <td>1009.00</td>\n",
       "    </tr>\n",
       "    <tr>\n",
       "      <th>1</th>\n",
       "      <td>Alurin Go Start Intel Celeron N4020/8GB/256GB ...</td>\n",
       "      <td>New</td>\n",
       "      <td>Alurin</td>\n",
       "      <td>Go</td>\n",
       "      <td>Intel Celeron</td>\n",
       "      <td>8</td>\n",
       "      <td>256</td>\n",
       "      <td>SSD</td>\n",
       "      <td>NaN</td>\n",
       "      <td>15.6</td>\n",
       "      <td>No</td>\n",
       "      <td>299.00</td>\n",
       "    </tr>\n",
       "    <tr>\n",
       "      <th>2</th>\n",
       "      <td>ASUS ExpertBook B1 B1502CBA-EJ0424X Intel Core...</td>\n",
       "      <td>New</td>\n",
       "      <td>Asus</td>\n",
       "      <td>ExpertBook</td>\n",
       "      <td>Intel Core i3</td>\n",
       "      <td>8</td>\n",
       "      <td>256</td>\n",
       "      <td>SSD</td>\n",
       "      <td>NaN</td>\n",
       "      <td>15.6</td>\n",
       "      <td>No</td>\n",
       "      <td>789.00</td>\n",
       "    </tr>\n",
       "    <tr>\n",
       "      <th>3</th>\n",
       "      <td>MSI Katana GF66 12UC-082XES Intel Core i7-1270...</td>\n",
       "      <td>New</td>\n",
       "      <td>MSI</td>\n",
       "      <td>Katana</td>\n",
       "      <td>Intel Core i7</td>\n",
       "      <td>16</td>\n",
       "      <td>1000</td>\n",
       "      <td>SSD</td>\n",
       "      <td>RTX 3050</td>\n",
       "      <td>15.6</td>\n",
       "      <td>No</td>\n",
       "      <td>1199.00</td>\n",
       "    </tr>\n",
       "    <tr>\n",
       "      <th>4</th>\n",
       "      <td>HP 15S-FQ5085NS Intel Core i5-1235U/16GB/512GB...</td>\n",
       "      <td>New</td>\n",
       "      <td>HP</td>\n",
       "      <td>15S</td>\n",
       "      <td>Intel Core i5</td>\n",
       "      <td>16</td>\n",
       "      <td>512</td>\n",
       "      <td>SSD</td>\n",
       "      <td>NaN</td>\n",
       "      <td>15.6</td>\n",
       "      <td>No</td>\n",
       "      <td>669.01</td>\n",
       "    </tr>\n",
       "  </tbody>\n",
       "</table>\n",
       "</div>"
      ],
      "text/plain": [
       "                                              Laptop Status   Brand  \\\n",
       "0  ASUS ExpertBook B1 B1502CBA-EJ0436X Intel Core...    New    Asus   \n",
       "1  Alurin Go Start Intel Celeron N4020/8GB/256GB ...    New  Alurin   \n",
       "2  ASUS ExpertBook B1 B1502CBA-EJ0424X Intel Core...    New    Asus   \n",
       "3  MSI Katana GF66 12UC-082XES Intel Core i7-1270...    New     MSI   \n",
       "4  HP 15S-FQ5085NS Intel Core i5-1235U/16GB/512GB...    New      HP   \n",
       "\n",
       "        Model            CPU  RAM  Storage Storage type       GPU  Screen  \\\n",
       "0  ExpertBook  Intel Core i5    8      512          SSD       NaN    15.6   \n",
       "1          Go  Intel Celeron    8      256          SSD       NaN    15.6   \n",
       "2  ExpertBook  Intel Core i3    8      256          SSD       NaN    15.6   \n",
       "3      Katana  Intel Core i7   16     1000          SSD  RTX 3050    15.6   \n",
       "4         15S  Intel Core i5   16      512          SSD       NaN    15.6   \n",
       "\n",
       "  Touch  Final Price  \n",
       "0    No      1009.00  \n",
       "1    No       299.00  \n",
       "2    No       789.00  \n",
       "3    No      1199.00  \n",
       "4    No       669.01  "
      ]
     },
     "execution_count": 2,
     "metadata": {},
     "output_type": "execute_result"
    }
   ],
   "source": [
    "URL = \"https://raw.githubusercontent.com/alexeygrigorev/datasets/master/laptops.csv\"\n",
    "df = pd.read_csv(URL)\n",
    "df.head()"
   ]
  },
  {
   "cell_type": "markdown",
   "id": "9c5f4737",
   "metadata": {},
   "source": [
    "## Preparing the dataset\n",
    "\n",
    "First, we’ll normalize the names of the columns:"
   ]
  },
  {
   "cell_type": "code",
   "execution_count": 3,
   "id": "4f29f4b0",
   "metadata": {},
   "outputs": [
    {
     "data": {
      "text/plain": [
       "Index(['laptop', 'status', 'brand', 'model', 'cpu', 'ram', 'storage',\n",
       "       'storage_type', 'gpu', 'screen', 'touch', 'final_price'],\n",
       "      dtype='object')"
      ]
     },
     "execution_count": 3,
     "metadata": {},
     "output_type": "execute_result"
    }
   ],
   "source": [
    "df.columns = df.columns.str.lower().str.replace(' ', '_')\n",
    "df.columns"
   ]
  },
  {
   "cell_type": "markdown",
   "id": "97b1d4f1",
   "metadata": {},
   "source": [
    "Next, use only the following columns:\n",
    "\n",
    "-   `'ram'`,\n",
    "-   `'storage'`,\n",
    "-   `'screen'`,\n",
    "-   `'final_price'`"
   ]
  },
  {
   "cell_type": "code",
   "execution_count": 4,
   "id": "64468a26",
   "metadata": {},
   "outputs": [
    {
     "data": {
      "text/plain": [
       "Index(['ram', 'storage', 'screen', 'final_price'], dtype='object')"
      ]
     },
     "execution_count": 4,
     "metadata": {},
     "output_type": "execute_result"
    }
   ],
   "source": [
    "df = df[['ram','storage','screen','final_price']]\n",
    "df.columns"
   ]
  },
  {
   "cell_type": "markdown",
   "id": "8902e1b5",
   "metadata": {},
   "source": [
    "### EDA\n",
    "\n",
    "-   Look at the `final_price` variable. Does it have a long tail?"
   ]
  },
  {
   "cell_type": "code",
   "execution_count": 5,
   "id": "9b3225f0",
   "metadata": {},
   "outputs": [
    {
     "data": {
      "text/plain": [
       "<Axes: xlabel='final_price', ylabel='Count'>"
      ]
     },
     "execution_count": 5,
     "metadata": {},
     "output_type": "execute_result"
    },
    {
     "data": {
      "image/png": "[encoded data removed]",
      "text/plain": [
       "<Figure size 640x480 with 1 Axes>"
      ]
     },
     "metadata": {},
     "output_type": "display_data"
    }
   ],
   "source": [
    "sns.histplot(df.final_price)"
   ]
  },
  {
   "cell_type": "code",
   "execution_count": 6,
   "id": "4c2aca2d",
   "metadata": {},
   "outputs": [
    {
     "data": {
      "text/plain": [
       "<Axes: xlabel='final_price', ylabel='Count'>"
      ]
     },
     "execution_count": 6,
     "metadata": {},
     "output_type": "execute_result"
    },
    {
     "data": {
      "image/png": "[encoded data removed]",
      "text/plain": [
       "<Figure size 640x480 with 1 Axes>"
      ]
     },
     "metadata": {},
     "output_type": "display_data"
    }
   ],
   "source": [
    "final_price_logs = np.log1p(df.final_price)\n",
    "sns.histplot(final_price_logs)"
   ]
  },
  {
   "cell_type": "code",
   "execution_count": 7,
   "id": "c7154677",
   "metadata": {},
   "outputs": [
    {
     "name": "stdout",
     "output_type": "stream",
     "text": [
      "<class 'pandas.core.frame.DataFrame'>\n",
      "RangeIndex: 2160 entries, 0 to 2159\n",
      "Data columns (total 4 columns):\n",
      " #   Column       Non-Null Count  Dtype  \n",
      "---  ------       --------------  -----  \n",
      " 0   ram          2160 non-null   int64  \n",
      " 1   storage      2160 non-null   int64  \n",
      " 2   screen       2156 non-null   float64\n",
      " 3   final_price  2160 non-null   float64\n",
      "dtypes: float64(2), int64(2)\n",
      "memory usage: 67.6 KB\n"
     ]
    }
   ],
   "source": [
    "df.info()"
   ]
  },
  {
   "cell_type": "code",
   "execution_count": 8,
   "id": "9a594c17",
   "metadata": {},
   "outputs": [
    {
     "data": {
      "text/html": [
       "<div>\n",
       "<style scoped>\n",
       "    .dataframe tbody tr th:only-of-type {\n",
       "        vertical-align: middle;\n",
       "    }\n",
       "\n",
       "    .dataframe tbody tr th {\n",
       "        vertical-align: top;\n",
       "    }\n",
       "\n",
       "    .dataframe thead th {\n",
       "        text-align: right;\n",
       "    }\n",
       "</style>\n",
       "<table border=\"1\" class=\"dataframe\">\n",
       "  <thead>\n",
       "    <tr style=\"text-align: right;\">\n",
       "      <th></th>\n",
       "      <th>ram</th>\n",
       "      <th>storage</th>\n",
       "      <th>screen</th>\n",
       "      <th>final_price</th>\n",
       "    </tr>\n",
       "  </thead>\n",
       "  <tbody>\n",
       "    <tr>\n",
       "      <th>count</th>\n",
       "      <td>2160.000000</td>\n",
       "      <td>2160.000000</td>\n",
       "      <td>2156.000000</td>\n",
       "      <td>2160.000000</td>\n",
       "    </tr>\n",
       "    <tr>\n",
       "      <th>mean</th>\n",
       "      <td>15.413889</td>\n",
       "      <td>596.294444</td>\n",
       "      <td>15.168112</td>\n",
       "      <td>1312.638509</td>\n",
       "    </tr>\n",
       "    <tr>\n",
       "      <th>std</th>\n",
       "      <td>9.867815</td>\n",
       "      <td>361.220506</td>\n",
       "      <td>1.203329</td>\n",
       "      <td>911.475417</td>\n",
       "    </tr>\n",
       "    <tr>\n",
       "      <th>min</th>\n",
       "      <td>4.000000</td>\n",
       "      <td>0.000000</td>\n",
       "      <td>10.100000</td>\n",
       "      <td>201.050000</td>\n",
       "    </tr>\n",
       "    <tr>\n",
       "      <th>25%</th>\n",
       "      <td>8.000000</td>\n",
       "      <td>256.000000</td>\n",
       "      <td>14.000000</td>\n",
       "      <td>661.082500</td>\n",
       "    </tr>\n",
       "    <tr>\n",
       "      <th>50%</th>\n",
       "      <td>16.000000</td>\n",
       "      <td>512.000000</td>\n",
       "      <td>15.600000</td>\n",
       "      <td>1031.945000</td>\n",
       "    </tr>\n",
       "    <tr>\n",
       "      <th>75%</th>\n",
       "      <td>16.000000</td>\n",
       "      <td>1000.000000</td>\n",
       "      <td>15.600000</td>\n",
       "      <td>1708.970000</td>\n",
       "    </tr>\n",
       "    <tr>\n",
       "      <th>max</th>\n",
       "      <td>128.000000</td>\n",
       "      <td>4000.000000</td>\n",
       "      <td>18.000000</td>\n",
       "      <td>7150.470000</td>\n",
       "    </tr>\n",
       "  </tbody>\n",
       "</table>\n",
       "</div>"
      ],
      "text/plain": [
       "               ram      storage       screen  final_price\n",
       "count  2160.000000  2160.000000  2156.000000  2160.000000\n",
       "mean     15.413889   596.294444    15.168112  1312.638509\n",
       "std       9.867815   361.220506     1.203329   911.475417\n",
       "min       4.000000     0.000000    10.100000   201.050000\n",
       "25%       8.000000   256.000000    14.000000   661.082500\n",
       "50%      16.000000   512.000000    15.600000  1031.945000\n",
       "75%      16.000000  1000.000000    15.600000  1708.970000\n",
       "max     128.000000  4000.000000    18.000000  7150.470000"
      ]
     },
     "execution_count": 8,
     "metadata": {},
     "output_type": "execute_result"
    }
   ],
   "source": [
    "df.describe()"
   ]
  },
  {
   "cell_type": "code",
   "execution_count": 9,
   "id": "d7eacf5c",
   "metadata": {},
   "outputs": [
    {
     "data": {
      "text/plain": [
       "ram            0\n",
       "storage        0\n",
       "screen         4\n",
       "final_price    0\n",
       "dtype: int64"
      ]
     },
     "execution_count": 9,
     "metadata": {},
     "output_type": "execute_result"
    }
   ],
   "source": [
    "df.isna().sum()"
   ]
  },
  {
   "cell_type": "code",
   "execution_count": 10,
   "id": "ec1dab04",
   "metadata": {},
   "outputs": [
    {
     "data": {
      "text/html": [
       "<div>\n",
       "<style scoped>\n",
       "    .dataframe tbody tr th:only-of-type {\n",
       "        vertical-align: middle;\n",
       "    }\n",
       "\n",
       "    .dataframe tbody tr th {\n",
       "        vertical-align: top;\n",
       "    }\n",
       "\n",
       "    .dataframe thead th {\n",
       "        text-align: right;\n",
       "    }\n",
       "</style>\n",
       "<table border=\"1\" class=\"dataframe\">\n",
       "  <thead>\n",
       "    <tr style=\"text-align: right;\">\n",
       "      <th></th>\n",
       "      <th>ram</th>\n",
       "      <th>storage</th>\n",
       "      <th>screen</th>\n",
       "      <th>final_price</th>\n",
       "    </tr>\n",
       "  </thead>\n",
       "  <tbody>\n",
       "    <tr>\n",
       "      <th>813</th>\n",
       "      <td>8</td>\n",
       "      <td>256</td>\n",
       "      <td>14.0</td>\n",
       "      <td>239.00</td>\n",
       "    </tr>\n",
       "    <tr>\n",
       "      <th>26</th>\n",
       "      <td>8</td>\n",
       "      <td>256</td>\n",
       "      <td>14.0</td>\n",
       "      <td>239.00</td>\n",
       "    </tr>\n",
       "    <tr>\n",
       "      <th>1</th>\n",
       "      <td>8</td>\n",
       "      <td>256</td>\n",
       "      <td>15.6</td>\n",
       "      <td>299.00</td>\n",
       "    </tr>\n",
       "    <tr>\n",
       "      <th>1933</th>\n",
       "      <td>8</td>\n",
       "      <td>256</td>\n",
       "      <td>15.6</td>\n",
       "      <td>299.00</td>\n",
       "    </tr>\n",
       "    <tr>\n",
       "      <th>540</th>\n",
       "      <td>4</td>\n",
       "      <td>64</td>\n",
       "      <td>14.0</td>\n",
       "      <td>329.00</td>\n",
       "    </tr>\n",
       "    <tr>\n",
       "      <th>...</th>\n",
       "      <td>...</td>\n",
       "      <td>...</td>\n",
       "      <td>...</td>\n",
       "      <td>...</td>\n",
       "    </tr>\n",
       "    <tr>\n",
       "      <th>100</th>\n",
       "      <td>16</td>\n",
       "      <td>1000</td>\n",
       "      <td>15.6</td>\n",
       "      <td>3299.99</td>\n",
       "    </tr>\n",
       "    <tr>\n",
       "      <th>819</th>\n",
       "      <td>32</td>\n",
       "      <td>1000</td>\n",
       "      <td>15.6</td>\n",
       "      <td>3499.00</td>\n",
       "    </tr>\n",
       "    <tr>\n",
       "      <th>423</th>\n",
       "      <td>32</td>\n",
       "      <td>1000</td>\n",
       "      <td>15.6</td>\n",
       "      <td>3499.00</td>\n",
       "    </tr>\n",
       "    <tr>\n",
       "      <th>716</th>\n",
       "      <td>32</td>\n",
       "      <td>1000</td>\n",
       "      <td>16.0</td>\n",
       "      <td>3699.01</td>\n",
       "    </tr>\n",
       "    <tr>\n",
       "      <th>292</th>\n",
       "      <td>32</td>\n",
       "      <td>1000</td>\n",
       "      <td>16.0</td>\n",
       "      <td>3699.01</td>\n",
       "    </tr>\n",
       "  </tbody>\n",
       "</table>\n",
       "<p>468 rows × 4 columns</p>\n",
       "</div>"
      ],
      "text/plain": [
       "      ram  storage  screen  final_price\n",
       "813     8      256    14.0       239.00\n",
       "26      8      256    14.0       239.00\n",
       "1       8      256    15.6       299.00\n",
       "1933    8      256    15.6       299.00\n",
       "540     4       64    14.0       329.00\n",
       "...   ...      ...     ...          ...\n",
       "100    16     1000    15.6      3299.99\n",
       "819    32     1000    15.6      3499.00\n",
       "423    32     1000    15.6      3499.00\n",
       "716    32     1000    16.0      3699.01\n",
       "292    32     1000    16.0      3699.01\n",
       "\n",
       "[468 rows x 4 columns]"
      ]
     },
     "execution_count": 10,
     "metadata": {},
     "output_type": "execute_result"
    }
   ],
   "source": [
    "df[df.duplicated(keep=False)].sort_values(by=['final_price'])"
   ]
  },
  {
   "cell_type": "markdown",
   "id": "ede4c8fd",
   "metadata": {},
   "source": [
    "### Question 1\n",
    "\n",
    "There’s one column with missing values. What is it?"
   ]
  },
  {
   "cell_type": "code",
   "execution_count": 11,
   "id": "42fd6698",
   "metadata": {},
   "outputs": [
    {
     "name": "stdout",
     "output_type": "stream",
     "text": [
      "Column with missing values: screen\n"
     ]
    }
   ],
   "source": [
    "missing_values_count = df.isna().sum()\n",
    "column_with_missing_values = missing_values_count[missing_values_count > 0].index[0]\n",
    "print(f\"Column with missing values: {column_with_missing_values}\")"
   ]
  },
  {
   "cell_type": "markdown",
   "id": "58e02826",
   "metadata": {},
   "source": [
    "### Question 2\n",
    "\n",
    "What’s the median (50% percentile) for variable `'ram'`?\n",
    "\n",
    "-   8\n",
    "-   16\n",
    "-   24\n",
    "-   32"
   ]
  },
  {
   "cell_type": "code",
   "execution_count": 12,
   "id": "7134e5df",
   "metadata": {},
   "outputs": [
    {
     "name": "stdout",
     "output_type": "stream",
     "text": [
      "The median (50% percentile) for variable ram is: 16.0\n"
     ]
    }
   ],
   "source": [
    "ram_median = df.ram.median()\n",
    "print(f\"The median (50% percentile) for variable ram is: {ram_median}\")"
   ]
  },
  {
   "cell_type": "markdown",
   "id": "33448919",
   "metadata": {},
   "source": [
    "### Prepare and split the dataset\n",
    "\n",
    "-   Shuffle the dataset (the filtered one you created above), use seed\n",
    "    `42`.\n",
    "-   Split your data in train/val/test sets, with 60%/20%/20%\n",
    "    distribution."
   ]
  },
  {
   "cell_type": "code",
   "execution_count": 13,
   "id": "493dcd6e",
   "metadata": {},
   "outputs": [],
   "source": [
    "def split_data(df, test_size=0.2, val_size=0.2, random_state=42):\n",
    "    n = len(df)\n",
    "    n_val = int(n * val_size)\n",
    "    n_test = int(n * test_size)\n",
    "    n_train = n - n_val - n_test\n",
    "\n",
    "    idx = np.arange(n)\n",
    "    np.random.seed(random_state)\n",
    "    np.random.shuffle(idx)\n",
    "\n",
    "    df_train = df.iloc[idx[:n_train]].reset_index(drop=True)\n",
    "    df_val = df.iloc[idx[n_train:n_train+n_val]].reset_index(drop=True)\n",
    "    df_test = df.iloc[idx[n_train+n_val:]].reset_index(drop=True)\n",
    "\n",
    "    y_train = df_train.final_price.values\n",
    "    y_val = df_val.final_price.values\n",
    "    y_test = df_test.final_price.values\n",
    "\n",
    "    df_train = df_train.drop('final_price', axis=1)\n",
    "    df_val = df_val.drop('final_price', axis=1)\n",
    "    df_test = df_test.drop('final_price', axis=1)\n",
    "\n",
    "    return df_train, df_val, df_test, y_train, y_val, y_test"
   ]
  },
  {
   "cell_type": "code",
   "execution_count": 14,
   "id": "4b3748b4",
   "metadata": {},
   "outputs": [],
   "source": [
    "df_train, df_val, df_test, y_train, y_val, y_test = split_data(df)"
   ]
  },
  {
   "cell_type": "code",
   "execution_count": 15,
   "id": "08321a2d",
   "metadata": {},
   "outputs": [
    {
     "data": {
      "text/plain": [
       "(1296, 432, 432)"
      ]
     },
     "execution_count": 15,
     "metadata": {},
     "output_type": "execute_result"
    }
   ],
   "source": [
    "len(df_train), len(df_val), len(df_test)"
   ]
  },
  {
   "cell_type": "code",
   "execution_count": 16,
   "id": "00a41e9e",
   "metadata": {},
   "outputs": [
    {
     "data": {
      "text/plain": [
       "(1296, 432, 432)"
      ]
     },
     "execution_count": 16,
     "metadata": {},
     "output_type": "execute_result"
    }
   ],
   "source": [
    "len(y_train), len(y_val), len(y_test)"
   ]
  },
  {
   "cell_type": "markdown",
   "id": "445f4e04",
   "metadata": {},
   "source": [
    "### Question 3\n",
    "\n",
    "-   We need to deal with missing values for the column from Q1.\n",
    "-   We have two options: fill it with 0 or with the mean of this\n",
    "    variable.\n",
    "-   We will try both options. For each, train a linear regression model without\n",
    "    regularization using the code from the lessons.\n"
   ]
  },
  {
   "cell_type": "code",
   "execution_count": 17,
   "id": "9e6d45d2",
   "metadata": {},
   "outputs": [],
   "source": [
    "def train_linear_regression(X, y):\n",
    "    ones = np.ones(X.shape[0])\n",
    "    X = np.column_stack([ones, X])\n",
    "\n",
    "    XTX = X.T.dot(X)\n",
    "    XTX_inv = np.linalg.inv(XTX)\n",
    "    w_full = XTX_inv.dot(X.T).dot(y)\n",
    "    \n",
    "    return w_full[0], w_full[1:]"
   ]
  },
  {
   "cell_type": "code",
   "execution_count": 18,
   "id": "795aa024",
   "metadata": {},
   "outputs": [],
   "source": [
    "def prepare_X(df, option = 0.0):\n",
    "    df = df.fillna(option)\n",
    "    X = df.values\n",
    "    return X"
   ]
  },
  {
   "cell_type": "code",
   "execution_count": 19,
   "id": "2af734d0",
   "metadata": {},
   "outputs": [],
   "source": [
    "def rmse(y, y_pred):\n",
    "    se = (y - y_pred) ** 2\n",
    "    mse = se.mean()\n",
    "\n",
    "    # Round the RMSE scores to 2 decimal digits\n",
    "    rmse = round(np.sqrt(mse), 2)\n",
    "    return rmse"
   ]
  },
  {
   "cell_type": "code",
   "execution_count": 20,
   "id": "4e2c7b82",
   "metadata": {},
   "outputs": [
    {
     "name": "stdout",
     "output_type": "stream",
     "text": [
      "Score with 0: 597.36\n"
     ]
    }
   ],
   "source": [
    "# Fill NAs with 0\n",
    "X_train = prepare_X(df_train)\n",
    "X_val = prepare_X(df_val)\n",
    "\n",
    "# Train a linear regression model without regularization\n",
    "w0, w = train_linear_regression(X_train, y_train)\n",
    "y_pred = w0 + X_val.dot(w)\n",
    "\n",
    "# Use the validation dataset to evaluate the models and compare the RMSE of each option.\n",
    "score_with_0 = rmse(y_val, y_pred)\n",
    "print(f\"Score with 0: {score_with_0}\")"
   ]
  },
  {
   "cell_type": "markdown",
   "id": "ba15d857",
   "metadata": {},
   "source": [
    "-   For computing the mean, we use the training only!"
   ]
  },
  {
   "cell_type": "code",
   "execution_count": 21,
   "id": "93f4955e",
   "metadata": {},
   "outputs": [
    {
     "data": {
      "text/plain": [
       "15.163534416086618"
      ]
     },
     "execution_count": 21,
     "metadata": {},
     "output_type": "execute_result"
    }
   ],
   "source": [
    "screen_mean = df_train.screen.mean()\n",
    "screen_mean"
   ]
  },
  {
   "cell_type": "code",
   "execution_count": 22,
   "id": "553b50a5",
   "metadata": {},
   "outputs": [
    {
     "name": "stdout",
     "output_type": "stream",
     "text": [
      "Score with median: 597.36\n"
     ]
    }
   ],
   "source": [
    "# Train a linear regression model without regularization\n",
    "w0, w = train_linear_regression(X_train, y_train)\n",
    "y_pred = w0 + X_val.dot(w)\n",
    "\n",
    "# Fill NAs with the mean\n",
    "X_train = prepare_X(df_train, screen_mean)\n",
    "X_val = prepare_X(df_val, screen_mean)\n",
    "\n",
    "# Use the validation dataset to evaluate the models and compare the RMSE of each option.\n",
    "score_with_median = rmse(y_val, y_pred)\n",
    "print(f\"Score with median: {score_with_median}\")"
   ]
  },
  {
   "cell_type": "code",
   "execution_count": 23,
   "id": "560d0037",
   "metadata": {},
   "outputs": [
    {
     "data": {
      "text/plain": [
       "<Axes: ylabel='Count'>"
      ]
     },
     "execution_count": 23,
     "metadata": {},
     "output_type": "execute_result"
    },
    {
     "data": {
      "image/png": "[encoded data removed]",
      "text/plain": [
       "<Figure size 640x480 with 1 Axes>"
      ]
     },
     "metadata": {},
     "output_type": "display_data"
    }
   ],
   "source": [
    "sns.histplot(y_pred, color='red', alpha=0.5)\n",
    "sns.histplot(y_train, color='blue', alpha=0.5)"
   ]
  },
  {
   "cell_type": "markdown",
   "id": "d1f00c64",
   "metadata": {},
   "source": [
    "-   Which option gives better RMSE?\n"
   ]
  },
  {
   "cell_type": "code",
   "execution_count": 24,
   "id": "56ba5301",
   "metadata": {},
   "outputs": [
    {
     "name": "stdout",
     "output_type": "stream",
     "text": [
      "The option with better RMSE is fill 'Nas' with 0: 597.36\n"
     ]
    }
   ],
   "source": [
    "print(f\"The option with better RMSE is fill 'Nas' with 0: {score_with_0}\")"
   ]
  },
  {
   "cell_type": "markdown",
   "id": "4b1a3120",
   "metadata": {},
   "source": [
    "### Question 4"
   ]
  },
  {
   "cell_type": "markdown",
   "id": "cc19630e",
   "metadata": {},
   "source": [
    "-   Now let’s train a regularized linear regression."
   ]
  },
  {
   "cell_type": "code",
   "execution_count": 25,
   "id": "5c2fb050",
   "metadata": {},
   "outputs": [],
   "source": [
    "def train_linear_regression_reg(X, y, r=0.001):\n",
    "    ones = np.ones(X.shape[0])\n",
    "    X = np.column_stack([ones, X])\n",
    "\n",
    "    XTX = X.T.dot(X)\n",
    "    XTX = XTX + r * np.eye(XTX.shape[0])\n",
    "\n",
    "    XTX_inv = np.linalg.inv(XTX)\n",
    "    w_full = XTX_inv.dot(X.T).dot(y)\n",
    "    \n",
    "    return w_full[0], w_full[1:]"
   ]
  },
  {
   "cell_type": "markdown",
   "id": "56844276",
   "metadata": {},
   "source": [
    "-   Try different values of `r` from this list:\n",
    "    `[0, 0.01, 0.1, 1, 5, 10, 100]`."
   ]
  },
  {
   "cell_type": "code",
   "execution_count": 26,
   "id": "1fddc8de",
   "metadata": {},
   "outputs": [],
   "source": [
    "r_values = [0, 0.01, 0.1, 1, 5, 10, 100]\n"
   ]
  },
  {
   "cell_type": "code",
   "execution_count": 27,
   "id": "17bcfb61",
   "metadata": {},
   "outputs": [
    {
     "name": "stdout",
     "output_type": "stream",
     "text": [
      "0 676.8954853010354 597.36\n",
      "0.01 676.273681721199 597.36\n",
      "0.1 670.7284836319117 597.35\n",
      "1 619.903083411312 597.21\n",
      "5 463.7771697145259 597.01\n",
      "10 352.7971336770357 597.06\n",
      "100 66.92071440183727 597.9\n"
     ]
    }
   ],
   "source": [
    "scores = {}\n",
    "\n",
    "for r in r_values:\n",
    "    # For this question, fill the NAs with 0.\n",
    "    X_train = prepare_X(df_train)\n",
    "    X_val = prepare_X(df_val)\n",
    "    \n",
    "    ## Train a model with regularization.\n",
    "    w0, w = train_linear_regression_reg(X_train, y_train, r=r)   \n",
    "    y_pred = w0 + X_val.dot(w)\n",
    "\n",
    "    # Use RMSE to evaluate the model on the validation dataset.\n",
    "    score = rmse(y_val, y_pred)\n",
    "    scores.update({r:score})\n",
    "    \n",
    "    print(r, w0, score)"
   ]
  },
  {
   "cell_type": "markdown",
   "id": "dcc2267c",
   "metadata": {},
   "source": [
    "-   Which `r` gives the best RMSE?"
   ]
  },
  {
   "cell_type": "code",
   "execution_count": 28,
   "id": "5148d42d",
   "metadata": {},
   "outputs": [
    {
     "name": "stdout",
     "output_type": "stream",
     "text": [
      "The value of `r` with the best RMSE is: 5\n"
     ]
    }
   ],
   "source": [
    "best_score = min(scores, key=scores.get)\n",
    "print(f\"The value of `r` with the best RMSE is: {best_score}\")\n"
   ]
  },
  {
   "cell_type": "markdown",
   "id": "3d2124c5",
   "metadata": {},
   "source": [
    "### Question 5\n",
    "\n",
    "-   We used seed 42 for splitting the data. Let’s find out how selecting\n",
    "    the seed influences our score."
   ]
  },
  {
   "cell_type": "markdown",
   "id": "e47f1b1c",
   "metadata": {},
   "source": [
    "-   Try different seed values: `[0, 1, 2, 3, 4, 5, 6, 7, 8, 9]`."
   ]
  },
  {
   "cell_type": "code",
   "execution_count": 29,
   "id": "e2e98d1d",
   "metadata": {},
   "outputs": [],
   "source": [
    "seed_values = [0, 1, 2, 3, 4, 5, 6, 7, 8, 9]"
   ]
  },
  {
   "cell_type": "markdown",
   "id": "ce80d62b",
   "metadata": {},
   "source": [
    "-   For each seed, do the train/validation/test split with 60%/20%/20%\n",
    "    distribution."
   ]
  },
  {
   "cell_type": "code",
   "execution_count": 30,
   "id": "d203488f",
   "metadata": {},
   "outputs": [
    {
     "name": "stdout",
     "output_type": "stream",
     "text": [
      "0 547.5696230190905 565.45\n",
      "1 594.4197428005896 636.8\n",
      "2 649.4685454773346 588.96\n",
      "3 571.9459040117479 597.81\n",
      "4 629.3882030650149 571.96\n",
      "5 580.7647373333743 573.24\n",
      "6 783.7683689914218 647.34\n",
      "7 376.4358600628415 550.44\n",
      "8 572.8852361202732 587.33\n",
      "9 663.3792792613488 576.1\n"
     ]
    }
   ],
   "source": [
    "scores = []\n",
    "\n",
    "for seed in seed_values:\n",
    "    df_train, df_val, df_test, y_train, y_val, y_test = split_data(df, random_state=seed)\n",
    "    \n",
    "    # Fill the missing values with 0\n",
    "    X_train = prepare_X(df_train)\n",
    "    X_val = prepare_X(df_val)\n",
    "\n",
    "    # Train a model without regularization.\n",
    "    w0, w = train_linear_regression(X_train, y_train)\n",
    "    y_pred = w0 + X_val.dot(w)\n",
    "\n",
    "    # Evaluate the model on the validation dataset and collect the RMSE scores.\n",
    "    score = rmse(y_val, y_pred)\n",
    "    scores.append(score)\n",
    "    \n",
    "    print(seed, w0, score)\n"
   ]
  },
  {
   "cell_type": "markdown",
   "id": "dc901571",
   "metadata": {},
   "source": [
    "-   What’s the standard deviation of all the scores?"
   ]
  },
  {
   "cell_type": "code",
   "execution_count": 31,
   "id": "fcd20c61",
   "metadata": {},
   "outputs": [
    {
     "name": "stdout",
     "output_type": "stream",
     "text": [
      "The standard deviation of all the scores is: 29.176\n"
     ]
    }
   ],
   "source": [
    "std_scores = round(np.std(scores), 3)\n",
    "print(f\"The standard deviation of all the scores is: {std_scores}\")\n"
   ]
  },
  {
   "cell_type": "markdown",
   "id": "c17f3252",
   "metadata": {},
   "source": [
    "> Note: Standard deviation shows how different the values are. If it’s\n",
    "> low, then all values are approximately the same. If it’s high, the\n",
    "> values are different. If standard deviation of scores is low, then our\n",
    "> model is *stable*."
   ]
  },
  {
   "cell_type": "markdown",
   "id": "a537cb51",
   "metadata": {},
   "source": [
    "### Question 6"
   ]
  },
  {
   "cell_type": "markdown",
   "id": "9e27f312",
   "metadata": {},
   "source": [
    "-   Split the dataset like previously, use seed 9."
   ]
  },
  {
   "cell_type": "code",
   "execution_count": 32,
   "id": "8f95c1c9",
   "metadata": {},
   "outputs": [],
   "source": [
    "df_train, df_val, df_test, y_train, y_val, y_test = split_data(df, random_state=9)\n"
   ]
  },
  {
   "cell_type": "markdown",
   "id": "b3c61f41",
   "metadata": {},
   "source": [
    "-   Combine train and validation datasets."
   ]
  },
  {
   "cell_type": "code",
   "execution_count": 33,
   "id": "923e470e",
   "metadata": {},
   "outputs": [],
   "source": [
    "df_full_train = pd.concat([df_train, df_val])\n",
    "df_full_train = df_full_train.reset_index(drop=True)\n",
    "y_full_train = np.concatenate([y_train, y_val])\n"
   ]
  },
  {
   "cell_type": "markdown",
   "id": "2074155c",
   "metadata": {},
   "source": [
    "-   Fill the missing values with 0."
   ]
  },
  {
   "cell_type": "code",
   "execution_count": 34,
   "id": "316d4c87",
   "metadata": {},
   "outputs": [],
   "source": [
    "X_full_train = prepare_X(df_full_train)\n",
    "X_test = prepare_X(df_test)\n"
   ]
  },
  {
   "cell_type": "markdown",
   "id": "0c8e002b",
   "metadata": {},
   "source": [
    "- Train a model with `r=0.001`."
   ]
  },
  {
   "cell_type": "code",
   "execution_count": 35,
   "id": "78112d04",
   "metadata": {},
   "outputs": [],
   "source": [
    "w0, w = train_linear_regression_reg(X_full_train, y_full_train, r=0.001)\n",
    "y_pred = w0 + X_test.dot(w)\n"
   ]
  },
  {
   "cell_type": "markdown",
   "id": "34b5a68c",
   "metadata": {},
   "source": [
    "-   What’s the RMSE on the test dataset?"
   ]
  },
  {
   "cell_type": "code",
   "execution_count": 36,
   "id": "45e04975",
   "metadata": {},
   "outputs": [
    {
     "name": "stdout",
     "output_type": "stream",
     "text": [
      "The RMSE on the test dataset is: 608.61\n"
     ]
    }
   ],
   "source": [
    "score = round(rmse(y_test, y_pred), 2)\n",
    "print(f\"The RMSE on the test dataset is: {score}\")\n"
   ]
  },
  {
   "cell_type": "markdown",
   "id": "42a14256-91c8-446e-92a7-ab6bf11055d3",
   "metadata": {},
   "source": [
    "## Reference\n",
    "\n",
    "-   Original homework: \n",
    "    https://github.com/DataTalksClub/machine-learning-zoomcamp/blob/master/cohorts/2024/02-regression/homework.md"
   ]
  }
 ],
 "metadata": {
  "kernelspec": {
   "display_name": "Python 3 (ipykernel)",
   "language": "python",
   "name": "python3"
  },
  "language_info": {
   "codemirror_mode": {
    "name": "ipython",
    "version": 3
   },
   "file_extension": ".py",
   "mimetype": "text/x-python",
   "name": "python",
   "nbconvert_exporter": "python",
   "pygments_lexer": "ipython3",
   "version": "3.12.3"
  }
 },
 "nbformat": 4,
 "nbformat_minor": 5
}
